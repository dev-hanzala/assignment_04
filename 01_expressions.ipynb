{
  "nbformat": 4,
  "nbformat_minor": 0,
  "metadata": {
    "colab": {
      "provenance": [],
      "authorship_tag": "ABX9TyN7GHXykYAaAO/B2K/t5R66",
      "include_colab_link": true
    },
    "kernelspec": {
      "name": "python3",
      "display_name": "Python 3"
    },
    "language_info": {
      "name": "python"
    }
  },
  "cells": [
    {
      "cell_type": "markdown",
      "metadata": {
        "id": "view-in-github",
        "colab_type": "text"
      },
      "source": [
        "<a href=\"https://colab.research.google.com/github/dev-hanzala/assignment_04/blob/main/01_expressions.ipynb\" target=\"_parent\"><img src=\"https://colab.research.google.com/assets/colab-badge.svg\" alt=\"Open In Colab\"/></a>"
      ]
    },
    {
      "cell_type": "code",
      "execution_count": 1,
      "metadata": {
        "colab": {
          "base_uri": "https://localhost:8080/"
        },
        "id": "bixGNU-CtDcq",
        "outputId": "c20ad4ac-0e4c-4ca5-a26c-c8bf65ad0e25"
      },
      "outputs": [
        {
          "output_type": "stream",
          "name": "stdout",
          "text": [
            "01_dicesimulator\n",
            "die1 in main() starts as: 10\n",
            "Total of two dice: 9\n",
            "Total of two dice: 9\n",
            "Total of two dice: 5\n",
            "die1 in main() is: 10\n"
          ]
        }
      ],
      "source": [
        "print(\"01_dicesimulator\")\n",
        "\n",
        "import random\n",
        "\n",
        "NUM_SIDES = 6\n",
        "\n",
        "\n",
        "def roll_dice():\n",
        "    die1: int = random.randint(1, NUM_SIDES)\n",
        "    die2: int = random.randint(1, NUM_SIDES)\n",
        "    total: int = die1 + die2\n",
        "    print(\"Total of two dice:\", total)\n",
        "\n",
        "\n",
        "def main():\n",
        "    die1: int = 10\n",
        "    print(\"die1 in main() starts as: \" + str(die1))\n",
        "    roll_dice()\n",
        "    roll_dice()\n",
        "    roll_dice()\n",
        "    print(\"die1 in main() is: \" + str(die1))\n",
        "\n",
        "\n",
        "if __name__ == \"__main__\":\n",
        "    main()\n"
      ]
    },
    {
      "cell_type": "code",
      "source": [
        "print(\"02_e=mc2\")\n",
        "\n",
        "C: int = 299792458\n",
        "\n",
        "\n",
        "def main():\n",
        "    mass_in_kg: float = float(input(\"Enter kilos of mass: \"))\n",
        "    energy_in_joules: float = mass_in_kg * (C**2)\n",
        "\n",
        "    print(\"e = m * C^2...\")\n",
        "    print(\"m = \" + str(mass_in_kg) + \" kg\")\n",
        "    print(\"C = \" + str(C) + \" m/s\")\n",
        "\n",
        "    print(str(energy_in_joules) + \" joules of energy!\")\n",
        "\n",
        "\n",
        "if __name__ == \"__main__\":\n",
        "    main()\n"
      ],
      "metadata": {
        "colab": {
          "base_uri": "https://localhost:8080/"
        },
        "id": "5tpFyHmvtgr0",
        "outputId": "c8f2a36b-a07a-45ca-b049-32644597848b"
      },
      "execution_count": 2,
      "outputs": [
        {
          "output_type": "stream",
          "name": "stdout",
          "text": [
            "02_e=mc2\n",
            "Enter kilos of mass: 23\n",
            "e = m * C^2...\n",
            "m = 23.0 kg\n",
            "C = 299792458 m/s\n",
            "2.0671369110946806e+18 joules of energy!\n"
          ]
        }
      ]
    },
    {
      "cell_type": "code",
      "source": [
        "print(\"03_feet_to_inches\")\n",
        "\n",
        "INCHES_IN_FOOT: int = 12\n",
        "\n",
        "\n",
        "def main():\n",
        "    feet: float = float(input(\"Enter number of feet: \"))\n",
        "    inches: float = feet * INCHES_IN_FOOT\n",
        "    print(\"That is\", inches, \"inches!\")\n",
        "\n",
        "\n",
        "if __name__ == \"__main__\":\n",
        "    main()\n"
      ],
      "metadata": {
        "colab": {
          "base_uri": "https://localhost:8080/"
        },
        "id": "4CBTKjYqt3Fm",
        "outputId": "c30bccfb-07c8-4e1f-c3c9-dfd81f524677"
      },
      "execution_count": 3,
      "outputs": [
        {
          "output_type": "stream",
          "name": "stdout",
          "text": [
            "03_feet_to_inches\n",
            "Enter number of feet: 12\n",
            "That is 144.0 inches!\n"
          ]
        }
      ]
    },
    {
      "cell_type": "code",
      "source": [
        "print(\"04_pythagorean_theorem\")\n",
        "\n",
        "import math\n",
        "\n",
        "\n",
        "def main():\n",
        "    ab: float = float(input(\"Enter the length of AB: \"))\n",
        "    ac: float = float(input(\"Enter the length of AC: \"))\n",
        "\n",
        "    bc: float = math.sqrt(ab**2 + ac**2)\n",
        "    print(\"The length of BC (the hypotenuse) is: \" + str(bc))\n",
        "\n",
        "\n",
        "if __name__ == \"__main__\":\n",
        "    main()\n"
      ],
      "metadata": {
        "colab": {
          "base_uri": "https://localhost:8080/"
        },
        "id": "1sPgVL_uuHJ5",
        "outputId": "6b2bad3d-5f93-4ad5-fed3-a1e00c4aa932"
      },
      "execution_count": 4,
      "outputs": [
        {
          "output_type": "stream",
          "name": "stdout",
          "text": [
            "04_pythagorean_theorem\n",
            "Enter the length of AB: 21\n",
            "Enter the length of AC: 21\n",
            "The length of BC (the hypotenuse) is: 29.698484809834994\n"
          ]
        }
      ]
    },
    {
      "cell_type": "code",
      "source": [
        "print(\"05_remainder_division\")\n",
        "\n",
        "def main():\n",
        "    dividend: int = int(input(\"Please enter an integer to be divided: \"))\n",
        "    divisor: int = int(input(\"Please enter an integer to divide by: \"))\n",
        "\n",
        "    quotient: int = dividend // divisor\n",
        "    remainder: int = dividend % divisor\n",
        "\n",
        "    print(\n",
        "        \"The result of this division is \"\n",
        "        + str(quotient)\n",
        "        + \" with a remainder of \"\n",
        "        + str(remainder)\n",
        "    )\n",
        "\n",
        "\n",
        "if __name__ == \"__main__\":\n",
        "    main()\n"
      ],
      "metadata": {
        "colab": {
          "base_uri": "https://localhost:8080/"
        },
        "id": "FWNPG3NpuXFt",
        "outputId": "3181d73f-a678-422c-e36f-c17f2ff20c8a"
      },
      "execution_count": 6,
      "outputs": [
        {
          "output_type": "stream",
          "name": "stdout",
          "text": [
            "05_remainder_division\n",
            "Please enter an integer to be divided: 21\n",
            "Please enter an integer to divide by: 22\n",
            "The result of this division is 0 with a remainder of 21\n"
          ]
        }
      ]
    },
    {
      "cell_type": "code",
      "source": [
        "print(\"06_rolldice\")\n",
        "\n",
        "NUM_SIDES: int = 6\n",
        "\n",
        "\n",
        "def main():\n",
        "    die1: int = random.randint(1, NUM_SIDES)\n",
        "    die2: int = random.randint(1, NUM_SIDES)\n",
        "\n",
        "    total: int = die1 + die2\n",
        "\n",
        "    print(\"Dice have\", NUM_SIDES, \"sides each.\")\n",
        "    print(\"First die:\", die1)\n",
        "    print(\"Second die:\", die2)\n",
        "    print(\"Total of two dice:\", total)\n",
        "\n",
        "\n",
        "if __name__ == \"__main__\":\n",
        "    main()\n"
      ],
      "metadata": {
        "colab": {
          "base_uri": "https://localhost:8080/"
        },
        "id": "JM9ZMOblupMg",
        "outputId": "54edd165-baf9-4f33-c869-71c7898b8377"
      },
      "execution_count": 7,
      "outputs": [
        {
          "output_type": "stream",
          "name": "stdout",
          "text": [
            "06_rolldice\n",
            "Dice have 6 sides each.\n",
            "First die: 3\n",
            "Second die: 2\n",
            "Total of two dice: 5\n"
          ]
        }
      ]
    },
    {
      "cell_type": "code",
      "source": [
        "print(\"07_seconds_in_year\")\n",
        "DAYS_PER_YEAR: int = 365\n",
        "HOURS_PER_DAY: int = 24\n",
        "MIN_PER_HOUR: int = 60\n",
        "SEC_PER_MIN: int = 60\n",
        "\n",
        "\n",
        "def main():\n",
        "    print(\n",
        "        \"There are \"\n",
        "        + str(DAYS_PER_YEAR * HOURS_PER_DAY * MIN_PER_HOUR * SEC_PER_MIN)\n",
        "        + \" seconds in a year!\"\n",
        "    )\n",
        "\n",
        "\n",
        "if __name__ == \"__main__\":\n",
        "    main()\n"
      ],
      "metadata": {
        "colab": {
          "base_uri": "https://localhost:8080/"
        },
        "id": "ehYrxTs4u27v",
        "outputId": "4d619812-25a7-440e-88bc-678136fcab25"
      },
      "execution_count": 8,
      "outputs": [
        {
          "output_type": "stream",
          "name": "stdout",
          "text": [
            "07_seconds_in_year\n",
            "There are 31536000 seconds in a year!\n"
          ]
        }
      ]
    },
    {
      "cell_type": "code",
      "source": [
        "print(\"08_tiny_mad_lib\")\n",
        "\n",
        "SENTENCE_START: str = (\n",
        "    \"Panaversity is fun. I learned to program and used Python to make my \"  # adjective noun verb\n",
        ")\n",
        "\n",
        "\n",
        "def main():\n",
        "    adjective: str = input(\"Please type an adjective and press enter. \")\n",
        "    noun: str = input(\"Please type a noun and press enter. \")\n",
        "    verb: str = input(\"Please type a verb and press enter. \")\n",
        "\n",
        "    print(SENTENCE_START + adjective + \" \" + noun + \" \" + verb + \"!\")\n",
        "\n",
        "\n",
        "if __name__ == \"__main__\":\n",
        "    main()\n"
      ],
      "metadata": {
        "colab": {
          "base_uri": "https://localhost:8080/"
        },
        "id": "5chqVbvavEQD",
        "outputId": "f03f2d7b-7ec1-4b60-a7b3-5391ca35b3c4"
      },
      "execution_count": 9,
      "outputs": [
        {
          "output_type": "stream",
          "name": "stdout",
          "text": [
            "08_tiny_mad_lib\n",
            "Please type an adjective and press enter. good\n",
            "Please type a noun and press enter. school\n",
            "Please type a verb and press enter. come\n",
            "Panaversity is fun. I learned to program and used Python to make my good school come!\n"
          ]
        }
      ]
    }
  ]
}